{
 "cells": [
  {
   "cell_type": "code",
   "execution_count": 37,
   "metadata": {},
   "outputs": [],
   "source": [
    "file = open(\"OneBodyDensity_100.txt\", \"r\")\n",
    "\n",
    "import matplotlib.pyplot as plt \n",
    "import numpy as np \n",
    "\n",
    "norm = np.array([float(i) for i in file])\n"
   ]
  },
  {
   "cell_type": "code",
   "execution_count": 38,
   "metadata": {},
   "outputs": [
    {
     "data": {
      "text/plain": [
       "(array([8.851396e+06, 6.824440e+05, 3.198970e+05, 1.126740e+05,\n",
       "        2.899800e+04, 3.882000e+03, 7.090000e+02]),\n",
       " array([0.        , 0.75481286, 1.50962571, 2.26443857, 3.01925143,\n",
       "        3.77406429, 4.52887714, 5.28369   ]),\n",
       " <a list of 7 Patch objects>)"
      ]
     },
     "execution_count": 38,
     "metadata": {},
     "output_type": "execute_result"
    },
    {
     "data": {
      "image/png": "[encoded data removed]",
      "text/plain": [
       "<Figure size 432x288 with 1 Axes>"
      ]
     },
     "metadata": {
      "needs_background": "light"
     },
     "output_type": "display_data"
    }
   ],
   "source": [
    "plt.hist(norm, bins = 7)"
   ]
  },
  {
   "cell_type": "code",
   "execution_count": 41,
   "metadata": {},
   "outputs": [],
   "source": [
    "file = open(\"InteractingOneBodyDensity_10.txt\", \"r\")\n",
    "\n",
    "import matplotlib.pyplot as plt \n",
    "import numpy as np \n",
    "\n",
    "norm = np.array([float(i) for i in file])\n"
   ]
  },
  {
   "cell_type": "code",
   "execution_count": 44,
   "metadata": {},
   "outputs": [
    {
     "data": {
      "text/plain": [
       "[<matplotlib.lines.Line2D at 0x198c39153c8>]"
      ]
     },
     "execution_count": 44,
     "metadata": {},
     "output_type": "execute_result"
    },
    {
     "data": {
      "image/png": "[encoded data removed]",
      "text/plain": [
       "<Figure size 432x288 with 1 Axes>"
      ]
     },
     "metadata": {
      "needs_background": "light"
     },
     "output_type": "display_data"
    }
   ],
   "source": [
    "# norm[norm > 1e10] = 0\n",
    "plt.hist(norm, bins = 20)\n"
   ]
  }
 ],
 "metadata": {
  "kernelspec": {
   "display_name": "Python 3",
   "language": "python",
   "name": "python3"
  },
  "language_info": {
   "codemirror_mode": {
    "name": "ipython",
    "version": 3
   },
   "file_extension": ".py",
   "mimetype": "text/x-python",
   "name": "python",
   "nbconvert_exporter": "python",
   "pygments_lexer": "ipython3",
   "version": "3.7.1"
  }
 },
 "nbformat": 4,
 "nbformat_minor": 4
}
