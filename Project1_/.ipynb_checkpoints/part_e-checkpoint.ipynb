{
 "cells": [
  {
   "cell_type": "code",
   "execution_count": null,
   "metadata": {},
   "outputs": [],
   "source": [
    "import numpy as np \n",
    "import matplotlib.pyplot as plt\n",
    "\n",
    "f0_45 = open(\"interacting_metropolis_local_energy_values_a_0.000000num_particles_10num_dims_3alpha_0.450000.txt\", \"r\")\n",
    "f0_50 = open(\"interacting_metropolis_local_energy_values_a_0.000000num_particles_10num_dims_3alpha_0.500000.txt\", \"r\")\n",
    "f0_55 = open(\"interacting_metropolis_local_energy_values_a_0.000000num_particles_10num_dims_3alpha_0.550000.txt\", \"r\")\n",
    "\n",
    "local_energies_0_45 = np.array([float(j) for j in np.array([i for i in f0_45])[:-1]])\n",
    "local_energies_0_50 = np.array([float(j) for j in np.array([i for i in f0_50])[:-1]])\n",
    "local_energies_0_55 = np.array([float(j) for j in np.array([i for i in f0_55])[:-1]])\n",
    "\n",
    "alpha_vals = [0.45, 0.50, 0.55]\n",
    "\n",
    "means = np.array([np.mean(l) for l in [local_energies_0_2, local_energies_0_4,local_energies_0_5,local_energies_0_6,local_energies_0_8]])\n",
    "stds = np.array([np.std(l) for l in [local_energies_0_2, local_energies_0_4,local_energies_0_5,local_energies_0_6,local_energies_0_8]])\n",
    "\n",
    "\n",
    "plt.xlabel(\"alpha\")\n",
    "\n",
    "plt.scatter(alpha_vals, means)\n",
    "\n",
    "print(\"Energy per particle: \", means/1.)\n",
    "print(\"SD                 : \", stds)"
   ]
  }
 ],
 "metadata": {
  "kernelspec": {
   "display_name": "Python 3",
   "language": "python",
   "name": "python3"
  },
  "language_info": {
   "codemirror_mode": {
    "name": "ipython",
    "version": 3
   },
   "file_extension": ".py",
   "mimetype": "text/x-python",
   "name": "python",
   "nbconvert_exporter": "python",
   "pygments_lexer": "ipython3",
   "version": "3.7.1"
  }
 },
 "nbformat": 4,
 "nbformat_minor": 4
}
