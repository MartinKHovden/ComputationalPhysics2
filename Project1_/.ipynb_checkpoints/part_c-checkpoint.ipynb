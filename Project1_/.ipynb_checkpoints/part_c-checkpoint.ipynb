{
 "cells": [
  {
   "cell_type": "markdown",
   "metadata": {},
   "source": [
    "# Importance sampling Metropolis for non-interacting particles in a spherical potential trap"
   ]
  },
  {
   "cell_type": "markdown",
   "metadata": {},
   "source": [
    "# N = 1, 1 dimension"
   ]
  },
  {
   "cell_type": "code",
   "execution_count": 7,
   "metadata": {},
   "outputs": [
    {
     "name": "stdout",
     "output_type": "stream",
     "text": [
      "Energy per particle:  [0.73484432 0.51267481 0.5        0.50548783 0.55527491]\n",
      "SD                 :  [0.77683104 0.1578458  0.         0.13313192 0.34263767]\n"
     ]
    },
    {
     "data": {
      "image/png": "[encoded data removed]",
      "text/plain": [
       "<Figure size 432x288 with 1 Axes>"
      ]
     },
     "metadata": {
      "needs_background": "light"
     },
     "output_type": "display_data"
    }
   ],
   "source": [
    "import numpy as np \n",
    "import matplotlib.pyplot as plt\n",
    "\n",
    "f0_2 = open(\"importance_sampling_local_energy_values_a_0.000000num_particles_1num_dims_1alpha_0.200000.txt\", \"r\")\n",
    "f0_4 = open(\"importance_sampling_local_energy_values_a_0.000000num_particles_1num_dims_1alpha_0.400000.txt\", \"r\")\n",
    "f0_5 = open(\"importance_sampling_local_energy_values_a_0.000000num_particles_1num_dims_1alpha_0.500000.txt\", \"r\")\n",
    "f0_6 = open(\"importance_sampling_local_energy_values_a_0.000000num_particles_1num_dims_1alpha_0.600000.txt\", \"r\")\n",
    "f0_8 = open(\"importance_sampling_local_energy_values_a_0.000000num_particles_1num_dims_1alpha_0.800000.txt\", \"r\")\n",
    "\n",
    "\n",
    "local_energies_0_2 = np.array([float(j) for j in np.array([i for i in f0_2])[:-1]])\n",
    "local_energies_0_4 = np.array([float(j) for j in np.array([i for i in f0_4])[:-1]])\n",
    "local_energies_0_5 = np.array([float(j) for j in np.array([i for i in f0_5])[:-1]])\n",
    "local_energies_0_6 = np.array([float(j) for j in np.array([i for i in f0_6])[:-1]])\n",
    "local_energies_0_8 = np.array([float(j) for j in np.array([i for i in f0_8])[:-1]])\n",
    "\n",
    "alpha_vals = [0.2, 0.4, 0.5, 0.6, 0.8]\n",
    "\n",
    "means = np.array([np.mean(l) for l in [local_energies_0_2, local_energies_0_4,local_energies_0_5,local_energies_0_6,local_energies_0_8]])\n",
    "stds = np.array([np.std(l) for l in [local_energies_0_2, local_energies_0_4,local_energies_0_5,local_energies_0_6,local_energies_0_8]])\n",
    "\n",
    "\n",
    "plt.xlabel(\"alpha\")\n",
    "\n",
    "plt.scatter(alpha_vals, means)\n",
    "\n",
    "print(\"Energy per particle: \", means/1.)\n",
    "print(\"SD                 : \", stds)"
   ]
  },
  {
   "cell_type": "markdown",
   "metadata": {},
   "source": [
    "# N = 10, 1 dimensions"
   ]
  },
  {
   "cell_type": "code",
   "execution_count": 1,
   "metadata": {},
   "outputs": [
    {
     "name": "stdout",
     "output_type": "stream",
     "text": [
      "Energy per particle:  [7.1853339  5.13324287 5.         5.0604415  5.5530511 ]\n",
      "SD                 :  [2.21770587 0.47526784 0.         0.42529589 1.08756368]\n"
     ]
    }
   ],
   "source": [
    "import numpy as np \n",
    "import matplotlib.pyplot as plt\n",
    "\n",
    "f0_2 = open(\"importance_sampling_local_energy_values_a_0.000000num_particles_10num_dims_1alpha_0.200000.txt\", \"r\")\n",
    "f0_4 = open(\"importance_sampling_local_energy_values_a_0.000000num_particles_10num_dims_1alpha_0.400000.txt\", \"r\")\n",
    "f0_5 = open(\"importance_sampling_local_energy_values_a_0.000000num_particles_10num_dims_1alpha_0.500000.txt\", \"r\")\n",
    "f0_6 = open(\"importance_sampling_local_energy_values_a_0.000000num_particles_10num_dims_1alpha_0.600000.txt\", \"r\")\n",
    "f0_8 = open(\"importance_sampling_local_energy_values_a_0.000000num_particles_10num_dims_1alpha_0.800000.txt\", \"r\")\n",
    "\n",
    "local_energies_0_2 = np.array([float(j) for j in np.array([i for i in f0_2])[:-1]])\n",
    "local_energies_0_4 = np.array([float(j) for j in np.array([i for i in f0_4])[:-1]])\n",
    "local_energies_0_5 = np.array([float(j) for j in np.array([i for i in f0_5])[:-1]])\n",
    "local_energies_0_6 = np.array([float(j) for j in np.array([i for i in f0_6])[:-1]])\n",
    "local_energies_0_8 = np.array([float(j) for j in np.array([i for i in f0_8])[:-1]])\n",
    "\n",
    "alpha_vals = [0.2, 0.4, 0.5, 0.6, 0.8]\n",
    "\n",
    "means = np.array([np.mean(l) for l in [local_energies_0_2, local_energies_0_4,local_energies_0_5,local_energies_0_6,local_energies_0_8]])\n",
    "stds = np.array([np.std(l) for l in [local_energies_0_2, local_energies_0_4,local_energies_0_5,local_energies_0_6,local_energies_0_8]])\n",
    "\n",
    "\n",
    "plt.xlabel(\"alpha\")\n",
    "\n",
    "plt.scatter(alpha_vals, means)\n",
    "\n",
    "print(\"Energy per particle: \", means/1.)\n",
    "print(\"SD                 : \", stds)"
   ]
  },
  {
   "cell_type": "code",
   "execution_count": 13,
   "metadata": {},
   "outputs": [
    {
     "name": "stdout",
     "output_type": "stream",
     "text": [
      "[2.4073  2.40455 2.40974 ... 9.75961 9.53538 9.48211]\n",
      "[2.4073     4.81185    3.610795   2.00742833 1.10636708 0.71513942\n",
      " 0.52882824 0.42402832 0.36770604 0.32427956 0.29028996 0.26189091\n",
      " 0.23975508 0.21914808 0.20370058 0.19169004 0.17661813 0.16356871\n",
      " 0.15288993 0.14052947 0.13259547 0.12625931 0.1204186  0.1149069\n",
      " 0.10996445 0.10568778 0.10133761 0.09799732 0.09392419 0.0896298\n",
      " 0.08634566 0.08326147 0.08056161 0.07761217 0.07546271 0.07334351\n",
      " 0.07043704 0.0710283  0.06912364 0.06716214 0.0653448  0.0664867\n",
      " 0.06525659 0.06317666 0.06295992 0.06187755 0.06027712 0.05979696\n",
      " 0.05787535 0.05710174 0.05631203 0.05730573 0.05633511 0.05589595\n",
      " 0.05479974 0.05383218 0.05338057 0.05280808 0.05133842 0.04977641\n",
      " 0.04854011 0.04825017 0.04743178 0.04792654 0.04719495 0.04627731\n",
      " 0.04547663 0.04452114 0.04400016 0.04238232 0.04207575 0.04145783\n",
      " 0.04067344 0.03979416 0.04030803 0.03993677 0.03953719 0.03905724\n",
      " 0.03871048 0.03898583 0.03886545 0.03892044 0.03896098 0.03907339\n",
      " 0.03841861 0.03792234 0.03824968 0.03770367 0.03716129 0.03673013\n",
      " 0.03599645 0.03458897 0.03461858 0.03424525 0.03397186 0.03394718\n",
      " 0.03418997 0.03389412 0.0335529  0.03305175]\n"
     ]
    },
    {
     "data": {
      "image/png": "[encoded data removed]",
      "text/plain": [
       "<Figure size 432x288 with 1 Axes>"
      ]
     },
     "metadata": {
      "needs_background": "light"
     },
     "output_type": "display_data"
    }
   ],
   "source": [
    "import matplotlib.pyplot as plt \n",
    "\n",
    "print(local_energies_0_2)\n",
    "# new = np.zeros(len(local_energies_0_2))\n",
    "new = np.zeros(10**2)\n",
    "new[0] = local_energies_0_2[0]\n",
    "for i in range(1, 10**2):\n",
    "    new[i] = ((local_energies_0_2[i] + new[i-1])/i+1)\n",
    "    \n",
    "plt.plot(new)\n",
    "print(new)"
   ]
  }
 ],
 "metadata": {
  "kernelspec": {
   "display_name": "Python 3",
   "language": "python",
   "name": "python3"
  },
  "language_info": {
   "codemirror_mode": {
    "name": "ipython",
    "version": 3
   },
   "file_extension": ".py",
   "mimetype": "text/x-python",
   "name": "python",
   "nbconvert_exporter": "python",
   "pygments_lexer": "ipython3",
   "version": "3.7.1"
  }
 },
 "nbformat": 4,
 "nbformat_minor": 4
}
