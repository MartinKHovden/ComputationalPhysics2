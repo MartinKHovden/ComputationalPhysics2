{
 "cells": [
  {
   "cell_type": "markdown",
   "metadata": {},
   "source": [
    "# Importance sampling Metropolis for non-interacting particles in a spherical potential trap"
   ]
  },
  {
   "cell_type": "markdown",
   "metadata": {},
   "source": [
    "# N = 1, 1 dimension"
   ]
  },
  {
   "cell_type": "code",
   "execution_count": 7,
   "metadata": {},
   "outputs": [
    {
     "name": "stdout",
     "output_type": "stream",
     "text": [
      "Energy per particle:  [0.73484432 0.51267481 0.5        0.50548783 0.55527491]\n",
      "SD                 :  [0.77683104 0.1578458  0.         0.13313192 0.34263767]\n"
     ]
    },
    {
     "data": {
      "image/png": "[encoded data removed]",
      "text/plain": [
       "<Figure size 432x288 with 1 Axes>"
      ]
     },
     "metadata": {
      "needs_background": "light"
     },
     "output_type": "display_data"
    }
   ],
   "source": [
    "import numpy as np \n",
    "import matplotlib.pyplot as plt\n",
    "\n",
    "f0_2 = open(\"importance_sampling_local_energy_values_a_0.000000num_particles_1num_dims_1alpha_0.200000.txt\", \"r\")\n",
    "f0_4 = open(\"importance_sampling_local_energy_values_a_0.000000num_particles_1num_dims_1alpha_0.400000.txt\", \"r\")\n",
    "f0_5 = open(\"importance_sampling_local_energy_values_a_0.000000num_particles_1num_dims_1alpha_0.500000.txt\", \"r\")\n",
    "f0_6 = open(\"importance_sampling_local_energy_values_a_0.000000num_particles_1num_dims_1alpha_0.600000.txt\", \"r\")\n",
    "f0_8 = open(\"importance_sampling_local_energy_values_a_0.000000num_particles_1num_dims_1alpha_0.800000.txt\", \"r\")\n",
    "\n",
    "\n",
    "local_energies_0_2 = np.array([float(j) for j in np.array([i for i in f0_2])[:-1]])\n",
    "local_energies_0_4 = np.array([float(j) for j in np.array([i for i in f0_4])[:-1]])\n",
    "local_energies_0_5 = np.array([float(j) for j in np.array([i for i in f0_5])[:-1]])\n",
    "local_energies_0_6 = np.array([float(j) for j in np.array([i for i in f0_6])[:-1]])\n",
    "local_energies_0_8 = np.array([float(j) for j in np.array([i for i in f0_8])[:-1]])\n",
    "\n",
    "alpha_vals = [0.2, 0.4, 0.5, 0.6, 0.8]\n",
    "\n",
    "means = np.array([np.mean(l) for l in [local_energies_0_2, local_energies_0_4,local_energies_0_5,local_energies_0_6,local_energies_0_8]])\n",
    "stds = np.array([np.std(l) for l in [local_energies_0_2, local_energies_0_4,local_energies_0_5,local_energies_0_6,local_energies_0_8]])\n",
    "\n",
    "\n",
    "plt.xlabel(\"alpha\")\n",
    "\n",
    "plt.scatter(alpha_vals, means)\n",
    "\n",
    "print(\"Energy per particle: \", means/1.)\n",
    "print(\"SD                 : \", stds)"
   ]
  },
  {
   "cell_type": "markdown",
   "metadata": {},
   "source": [
    "# N = 10, 1 dimensions"
   ]
  },
  {
   "cell_type": "code",
   "execution_count": 8,
   "metadata": {},
   "outputs": [
    {
     "name": "stdout",
     "output_type": "stream",
     "text": [
      "Energy per particle:  [7.1853339  5.13324287 5.         5.0604415  5.5530511 ]\n",
      "SD                 :  [2.21770587 0.47526784 0.         0.42529589 1.08756368]\n"
     ]
    },
    {
     "data": {
      "image/png": "[encoded data removed]",
      "text/plain": [
       "<Figure size 432x288 with 1 Axes>"
      ]
     },
     "metadata": {
      "needs_background": "light"
     },
     "output_type": "display_data"
    }
   ],
   "source": [
    "import numpy as np \n",
    "import matplotlib.pyplot as plt\n",
    "\n",
    "f0_2 = open(\"importance_sampling_local_energy_values_a_0.000000num_particles_10num_dims_1alpha_0.200000.txt\", \"r\")\n",
    "f0_4 = open(\"importance_sampling_local_energy_values_a_0.000000num_particles_10num_dims_1alpha_0.400000.txt\", \"r\")\n",
    "f0_5 = open(\"importance_sampling_local_energy_values_a_0.000000num_particles_10num_dims_1alpha_0.500000.txt\", \"r\")\n",
    "f0_6 = open(\"importance_sampling_local_energy_values_a_0.000000num_particles_10num_dims_1alpha_0.600000.txt\", \"r\")\n",
    "f0_8 = open(\"importance_sampling_local_energy_values_a_0.000000num_particles_10num_dims_1alpha_0.800000.txt\", \"r\")\n",
    "\n",
    "\n",
    "local_energies_0_2 = np.array([float(j) for j in np.array([i for i in f0_2])[:-1]])\n",
    "local_energies_0_4 = np.array([float(j) for j in np.array([i for i in f0_4])[:-1]])\n",
    "local_energies_0_5 = np.array([float(j) for j in np.array([i for i in f0_5])[:-1]])\n",
    "local_energies_0_6 = np.array([float(j) for j in np.array([i for i in f0_6])[:-1]])\n",
    "local_energies_0_8 = np.array([float(j) for j in np.array([i for i in f0_8])[:-1]])\n",
    "\n",
    "alpha_vals = [0.2, 0.4, 0.5, 0.6, 0.8]\n",
    "\n",
    "means = np.array([np.mean(l) for l in [local_energies_0_2, local_energies_0_4,local_energies_0_5,local_energies_0_6,local_energies_0_8]])\n",
    "stds = np.array([np.std(l) for l in [local_energies_0_2, local_energies_0_4,local_energies_0_5,local_energies_0_6,local_energies_0_8]])\n",
    "\n",
    "\n",
    "plt.xlabel(\"alpha\")\n",
    "\n",
    "plt.scatter(alpha_vals, means)\n",
    "\n",
    "print(\"Energy per particle: \", means/1.)\n",
    "print(\"SD                 : \", stds)"
   ]
  }
 ],
 "metadata": {
  "kernelspec": {
   "display_name": "Python 3",
   "language": "python",
   "name": "python3"
  },
  "language_info": {
   "codemirror_mode": {
    "name": "ipython",
    "version": 3
   },
   "file_extension": ".py",
   "mimetype": "text/x-python",
   "name": "python",
   "nbconvert_exporter": "python",
   "pygments_lexer": "ipython3",
   "version": "3.7.1"
  }
 },
 "nbformat": 4,
 "nbformat_minor": 4
}
