{
 "cells": [
  {
   "cell_type": "markdown",
   "metadata": {},
   "source": [
    "# Brute-force Metropolis algorithm for non-interacting particles in a spherical potential trap"
   ]
  },
  {
   "cell_type": "markdown",
   "metadata": {},
   "source": [
    "## N = 1, 1 dimension"
   ]
  },
  {
   "cell_type": "code",
   "execution_count": 19,
   "metadata": {},
   "outputs": [
    {
     "name": "stdout",
     "output_type": "stream",
     "text": [
      "Energy per particle:  [0.73006399 0.51329437 0.5        0.50782928 0.55474086]\n",
      "SD                 :  [0.74721339 0.16017731 0.         0.13011839 0.34682009]\n"
     ]
    },
    {
     "data": {
      "image/png": "[encoded data removed]",
      "text/plain": [
       "<Figure size 432x288 with 1 Axes>"
      ]
     },
     "metadata": {
      "needs_background": "light"
     },
     "output_type": "display_data"
    }
   ],
   "source": [
    "import numpy as np \n",
    "import matplotlib.pyplot as plt\n",
    "\n",
    "f0_2 = open(\"metropolis_local_energy_values_a_0.000000num_particles_1num_dims_1alpha_0.200000.txt\", \"r\")\n",
    "f0_4 = open(\"metropolis_local_energy_values_a_0.000000num_particles_1num_dims_1alpha_0.400000.txt\", \"r\")\n",
    "f0_5 = open(\"metropolis_local_energy_values_a_0.000000num_particles_1num_dims_1alpha_0.500000.txt\", \"r\")\n",
    "f0_6 = open(\"metropolis_local_energy_values_a_0.000000num_particles_1num_dims_1alpha_0.600000.txt\", \"r\")\n",
    "f0_8 = open(\"metropolis_local_energy_values_a_0.000000num_particles_1num_dims_1alpha_0.800000.txt\", \"r\")\n",
    "\n",
    "\n",
    "local_energies_0_2 = np.array([float(j) for j in np.array([i for i in f0_2])[:-1]])\n",
    "local_energies_0_4 = np.array([float(j) for j in np.array([i for i in f0_4])[:-1]])\n",
    "local_energies_0_5 = np.array([float(j) for j in np.array([i for i in f0_5])[:-1]])\n",
    "local_energies_0_6 = np.array([float(j) for j in np.array([i for i in f0_6])[:-1]])\n",
    "local_energies_0_8 = np.array([float(j) for j in np.array([i for i in f0_8])[:-1]])\n",
    "\n",
    "alpha_vals = [0.2, 0.4, 0.5, 0.6, 0.8]\n",
    "\n",
    "means = np.array([np.mean(l) for l in [local_energies_0_2, local_energies_0_4,local_energies_0_5,local_energies_0_6,local_energies_0_8]])\n",
    "stds = np.array([np.std(l) for l in [local_energies_0_2, local_energies_0_4,local_energies_0_5,local_energies_0_6,local_energies_0_8]])\n",
    "\n",
    "\n",
    "plt.xlabel(\"alpha\")\n",
    "\n",
    "plt.scatter(alpha_vals, means)\n",
    "\n",
    "print(\"Energy per particle: \", means/1.)\n",
    "print(\"SD                 : \", stds)"
   ]
  },
  {
   "cell_type": "markdown",
   "metadata": {},
   "source": [
    "## N = 10, 1 dimension"
   ]
  },
  {
   "cell_type": "code",
   "execution_count": 24,
   "metadata": {},
   "outputs": [
    {
     "name": "stdout",
     "output_type": "stream",
     "text": [
      "Energy per particle:  [0.72448351 0.51221415 0.5        0.50874626 0.55788139]\n",
      "SD                 :  [2.34624839 0.5016029  0.         0.40828516 1.08169708]\n"
     ]
    },
    {
     "data": {
      "image/png": "[encoded data removed]",
      "text/plain": [
       "<Figure size 432x288 with 1 Axes>"
      ]
     },
     "metadata": {
      "needs_background": "light"
     },
     "output_type": "display_data"
    }
   ],
   "source": [
    "import numpy as np \n",
    "import matplotlib.pyplot as plt\n",
    "\n",
    "f0_2 = open(\"metropolis_local_energy_values_a_0.000000num_particles_10num_dims_1alpha_0.200000.txt\", \"r\")\n",
    "f0_4 = open(\"metropolis_local_energy_values_a_0.000000num_particles_10num_dims_1alpha_0.400000.txt\", \"r\")\n",
    "f0_5 = open(\"metropolis_local_energy_values_a_0.000000num_particles_10num_dims_1alpha_0.500000.txt\", \"r\")\n",
    "f0_6 = open(\"metropolis_local_energy_values_a_0.000000num_particles_10num_dims_1alpha_0.600000.txt\", \"r\")\n",
    "f0_8 = open(\"metropolis_local_energy_values_a_0.000000num_particles_10num_dims_1alpha_0.800000.txt\", \"r\")\n",
    "\n",
    "\n",
    "local_energies_0_2 = np.array([float(j) for j in np.array([i for i in f0_2])[:-1]])\n",
    "local_energies_0_4 = np.array([float(j) for j in np.array([i for i in f0_4])[:-1]])\n",
    "local_energies_0_5 = np.array([float(j) for j in np.array([i for i in f0_5])[:-1]])\n",
    "local_energies_0_6 = np.array([float(j) for j in np.array([i for i in f0_6])[:-1]])\n",
    "local_energies_0_8 = np.array([float(j) for j in np.array([i for i in f0_8])[:-1]])\n",
    "\n",
    "alpha_vals = [0.2, 0.4, 0.5, 0.6, 0.8]\n",
    "\n",
    "means = np.array([np.mean(l) for l in [local_energies_0_2, local_energies_0_4,local_energies_0_5,local_energies_0_6,local_energies_0_8]])\n",
    "stds = np.array([np.std(l) for l in [local_energies_0_2, local_energies_0_4,local_energies_0_5,local_energies_0_6,local_energies_0_8]])\n",
    "\n",
    "plt.scatter(alpha_vals, means)\n",
    "\n",
    "print(\"Energy per particle: \", means/10.)\n",
    "print(\"SD                 : \", stds)"
   ]
  },
  {
   "cell_type": "code",
   "execution_count": 25,
   "metadata": {},
   "outputs": [
    {
     "name": "stdout",
     "output_type": "stream",
     "text": [
      "[2.36718 2.62143 2.78766 ... 4.53281 4.24157 4.70971]\n",
      "[2.36718    2.494305   2.59209    ... 7.24484059 7.24483759 7.24483505]\n"
     ]
    },
    {
     "data": {
      "image/png": "[encoded data removed]",
      "text/plain": [
       "<Figure size 432x288 with 1 Axes>"
      ]
     },
     "metadata": {
      "needs_background": "light"
     },
     "output_type": "display_data"
    }
   ],
   "source": [
    "import matplotlib.pyplot as plt \n",
    "\n",
    "print(local_energies_0_2)\n",
    "new = np.cumsum(local_energies_0_2)\n",
    "\n",
    "for i in range(len(new)):\n",
    "    new[i]/= i+1\n",
    "plt.plot(new)\n",
    "print(new)"
   ]
  },
  {
   "cell_type": "markdown",
   "metadata": {},
   "source": [
    "# N = 100, 1 dimension"
   ]
  },
  {
   "cell_type": "code",
   "execution_count": 35,
   "metadata": {},
   "outputs": [
    {
     "name": "stdout",
     "output_type": "stream",
     "text": [
      "Energy per particle:  [0.72739441 0.51218053 0.5        0.50842674 0.55623248]\n"
     ]
    },
    {
     "data": {
      "image/png": "[encoded data removed]",
      "text/plain": [
       "<Figure size 432x288 with 1 Axes>"
      ]
     },
     "metadata": {
      "needs_background": "light"
     },
     "output_type": "display_data"
    }
   ],
   "source": [
    "import numpy as np \n",
    "import matplotlib.pyplot as plt\n",
    "\n",
    "f0_2 = open(\"metropolis_local_energy_values_a_0.000000num_particles_100num_dims_1alpha_0.200000.txt\", \"r\")\n",
    "f0_4 = open(\"metropolis_local_energy_values_a_0.000000num_particles_100num_dims_1alpha_0.400000.txt\", \"r\")\n",
    "f0_5 = open(\"metropolis_local_energy_values_a_0.000000num_particles_100num_dims_1alpha_0.500000.txt\", \"r\")\n",
    "f0_6 = open(\"metropolis_local_energy_values_a_0.000000num_particles_100num_dims_1alpha_0.600000.txt\", \"r\")\n",
    "f0_8 = open(\"metropolis_local_energy_values_a_0.000000num_particles_100num_dims_1alpha_0.800000.txt\", \"r\")\n",
    "\n",
    "\n",
    "local_energies_0_2 = np.array([float(j) for j in np.array([i for i in f0_2])[:-1]])\n",
    "local_energies_0_4 = np.array([float(j) for j in np.array([i for i in f0_4])[:-1]])\n",
    "local_energies_0_5 = np.array([float(j) for j in np.array([i for i in f0_5])[:-1]])\n",
    "local_energies_0_6 = np.array([float(j) for j in np.array([i for i in f0_6])[:-1]])\n",
    "local_energies_0_8 = np.array([float(j) for j in np.array([i for i in f0_8])[:-1]])\n",
    "\n",
    "alpha_vals = [0.2, 0.4, 0.5, 0.6, 0.8]\n",
    "\n",
    "means = np.array([np.mean(l) for l in [local_energies_0_2, local_energies_0_4,local_energies_0_5,local_energies_0_6,local_energies_0_8]])\n",
    "\n",
    "plt.scatter(alpha_vals, means)\n",
    "\n",
    "print(\"Energy per particle: \", means/100.)"
   ]
  },
  {
   "cell_type": "markdown",
   "metadata": {},
   "source": [
    "# N = 1, 3 dimensions"
   ]
  },
  {
   "cell_type": "code",
   "execution_count": 2,
   "metadata": {},
   "outputs": [
    {
     "name": "stdout",
     "output_type": "stream",
     "text": [
      "Energy per particle:  [2.17387712 1.53701334 1.5        1.52571579 1.67052681]\n"
     ]
    },
    {
     "data": {
      "image/png": "[encoded data removed]",
      "text/plain": [
       "<Figure size 432x288 with 1 Axes>"
      ]
     },
     "metadata": {
      "needs_background": "light"
     },
     "output_type": "display_data"
    }
   ],
   "source": [
    "import numpy as np \n",
    "import matplotlib.pyplot as plt\n",
    "\n",
    "f0_2 = open(\"metropolis_local_energy_values_a_0.000000num_particles_1num_dims_3alpha_0.200000.txt\", \"r\")\n",
    "f0_4 = open(\"metropolis_local_energy_values_a_0.000000num_particles_1num_dims_3alpha_0.400000.txt\", \"r\")\n",
    "f0_5 = open(\"metropolis_local_energy_values_a_0.000000num_particles_1num_dims_3alpha_0.500000.txt\", \"r\")\n",
    "f0_6 = open(\"metropolis_local_energy_values_a_0.000000num_particles_1num_dims_3alpha_0.600000.txt\", \"r\")\n",
    "f0_8 = open(\"metropolis_local_energy_values_a_0.000000num_particles_1num_dims_3alpha_0.800000.txt\", \"r\")\n",
    "\n",
    "\n",
    "local_energies_0_2 = np.array([float(j) for j in np.array([i for i in f0_2])[:-1]])\n",
    "local_energies_0_4 = np.array([float(j) for j in np.array([i for i in f0_4])[:-1]])\n",
    "local_energies_0_5 = np.array([float(j) for j in np.array([i for i in f0_5])[:-1]])\n",
    "local_energies_0_6 = np.array([float(j) for j in np.array([i for i in f0_6])[:-1]])\n",
    "local_energies_0_8 = np.array([float(j) for j in np.array([i for i in f0_8])[:-1]])\n",
    "\n",
    "alpha_vals = [0.2, 0.4, 0.5, 0.6, 0.8]\n",
    "\n",
    "means = np.array([np.mean(l) for l in [local_energies_0_2, local_energies_0_4,local_energies_0_5,local_energies_0_6,local_energies_0_8]])\n",
    "\n",
    "plt.scatter(alpha_vals, means)\n",
    "\n",
    "print(\"Energy per particle: \", means/1.)"
   ]
  },
  {
   "cell_type": "markdown",
   "metadata": {},
   "source": [
    "# N = 10, 3 dimensions"
   ]
  },
  {
   "cell_type": "code",
   "execution_count": 3,
   "metadata": {},
   "outputs": [
    {
     "name": "stdout",
     "output_type": "stream",
     "text": [
      "Energy per particle:  [2.18143364 1.53803808 1.5        1.5247406  1.6687186 ]\n"
     ]
    },
    {
     "data": {
      "image/png": "[encoded data removed]",
      "text/plain": [
       "<Figure size 432x288 with 1 Axes>"
      ]
     },
     "metadata": {
      "needs_background": "light"
     },
     "output_type": "display_data"
    }
   ],
   "source": [
    "import numpy as np \n",
    "import matplotlib.pyplot as plt\n",
    "\n",
    "f0_2 = open(\"metropolis_local_energy_values_a_0.000000num_particles_10num_dims_3alpha_0.200000.txt\", \"r\")\n",
    "f0_4 = open(\"metropolis_local_energy_values_a_0.000000num_particles_10num_dims_3alpha_0.400000.txt\", \"r\")\n",
    "f0_5 = open(\"metropolis_local_energy_values_a_0.000000num_particles_10num_dims_3alpha_0.500000.txt\", \"r\")\n",
    "f0_6 = open(\"metropolis_local_energy_values_a_0.000000num_particles_10num_dims_3alpha_0.600000.txt\", \"r\")\n",
    "f0_8 = open(\"metropolis_local_energy_values_a_0.000000num_particles_10num_dims_3alpha_0.800000.txt\", \"r\")\n",
    "\n",
    "\n",
    "local_energies_0_2 = np.array([float(j) for j in np.array([i for i in f0_2])[:-1]])\n",
    "local_energies_0_4 = np.array([float(j) for j in np.array([i for i in f0_4])[:-1]])\n",
    "local_energies_0_5 = np.array([float(j) for j in np.array([i for i in f0_5])[:-1]])\n",
    "local_energies_0_6 = np.array([float(j) for j in np.array([i for i in f0_6])[:-1]])\n",
    "local_energies_0_8 = np.array([float(j) for j in np.array([i for i in f0_8])[:-1]])\n",
    "\n",
    "alpha_vals = [0.2, 0.4, 0.5, 0.6, 0.8]\n",
    "\n",
    "means = np.array([np.mean(l) for l in [local_energies_0_2, local_energies_0_4,local_energies_0_5,local_energies_0_6,local_energies_0_8]])\n",
    "\n",
    "plt.scatter(alpha_vals, means)\n",
    "\n",
    "print(\"Energy per particle: \", means/10.)"
   ]
  },
  {
   "cell_type": "markdown",
   "metadata": {},
   "source": [
    "# N = 100, 3 dimensions"
   ]
  },
  {
   "cell_type": "code",
   "execution_count": 14,
   "metadata": {},
   "outputs": [
    {
     "name": "stdout",
     "output_type": "stream",
     "text": [
      "Energy per particle:  [2.17475121 1.53771962 1.5        1.52547806 1.6706149 ]\n",
      "SD                 :  [13.47195197  2.8766604   0.          2.20416783  6.01001314]\n"
     ]
    },
    {
     "data": {
      "image/png": "[encoded data removed]",
      "text/plain": [
       "<Figure size 432x288 with 1 Axes>"
      ]
     },
     "metadata": {
      "needs_background": "light"
     },
     "output_type": "display_data"
    }
   ],
   "source": [
    "import numpy as np \n",
    "import matplotlib.pyplot as plt\n",
    "\n",
    "f0_2 = open(\"metropolis_local_energy_values_a_0.000000num_particles_100num_dims_3alpha_0.200000.txt\", \"r\")\n",
    "f0_4 = open(\"metropolis_local_energy_values_a_0.000000num_particles_100num_dims_3alpha_0.400000.txt\", \"r\")\n",
    "f0_5 = open(\"metropolis_local_energy_values_a_0.000000num_particles_100num_dims_3alpha_0.500000.txt\", \"r\")\n",
    "f0_6 = open(\"metropolis_local_energy_values_a_0.000000num_particles_100num_dims_3alpha_0.600000.txt\", \"r\")\n",
    "f0_8 = open(\"metropolis_local_energy_values_a_0.000000num_particles_100num_dims_3alpha_0.800000.txt\", \"r\")\n",
    "\n",
    "\n",
    "local_energies_0_2 = np.array([float(j) for j in np.array([i for i in f0_2])[:-1]])\n",
    "local_energies_0_4 = np.array([float(j) for j in np.array([i for i in f0_4])[:-1]])\n",
    "local_energies_0_5 = np.array([float(j) for j in np.array([i for i in f0_5])[:-1]])\n",
    "local_energies_0_6 = np.array([float(j) for j in np.array([i for i in f0_6])[:-1]])\n",
    "local_energies_0_8 = np.array([float(j) for j in np.array([i for i in f0_8])[:-1]])\n",
    "\n",
    "alpha_vals = [0.2, 0.4, 0.5, 0.6, 0.8]\n",
    "\n",
    "means = np.array([np.mean(l) for l in [local_energies_0_2, local_energies_0_4,local_energies_0_5,local_energies_0_6,local_energies_0_8]])\n",
    "stds = np.array([np.std(l) for l in [local_energies_0_2, local_energies_0_4,local_energies_0_5,local_energies_0_6,local_energies_0_8]])\n",
    "\n",
    "plt.scatter(alpha_vals, means)\n",
    "\n",
    "print(\"Energy per particle: \", means/100.)\n",
    "print(\"SD                 : \", stds)"
   ]
  },
  {
   "cell_type": "markdown",
   "metadata": {},
   "source": [
    "# Numerical results for $\\alpha = 0.5$ in 3D"
   ]
  },
  {
   "cell_type": "markdown",
   "metadata": {},
   "source": [
    "## N = 10"
   ]
  },
  {
   "cell_type": "code",
   "execution_count": 6,
   "metadata": {},
   "outputs": [
    {
     "name": "stdout",
     "output_type": "stream",
     "text": [
      "15.0\n",
      "0.0\n"
     ]
    }
   ],
   "source": [
    "import numpy as np\n",
    "import matplotlib.pyplot as plt\n",
    "\n",
    "f_numerical_0_5 = open(\"numerical_metropolis_local_energy_values_a_0.000000num_particles_10num_dims_3alpha_0.500000.txt\", \"r\")\n",
    "\n",
    "local_energies_numerical_0_5 = np.array([float(j) for j in np.array([i for i in f_numerical_0_5])[:-1]])\n",
    "\n",
    "print(np.mean(local_energies_numerical_0_5))\n",
    "print(np.std(local_energies_numerical_0_5))"
   ]
  }
 ],
 "metadata": {
  "kernelspec": {
   "display_name": "Python 3",
   "language": "python",
   "name": "python3"
  },
  "language_info": {
   "codemirror_mode": {
    "name": "ipython",
    "version": 3
   },
   "file_extension": ".py",
   "mimetype": "text/x-python",
   "name": "python",
   "nbconvert_exporter": "python",
   "pygments_lexer": "ipython3",
   "version": "3.7.1"
  }
 },
 "nbformat": 4,
 "nbformat_minor": 4
}
