{
 "cells": [
  {
   "cell_type": "code",
   "execution_count": 37,
   "metadata": {},
   "outputs": [],
   "source": [
    "file = open(\"OneBodyDensity_100.txt\", \"r\")\n",
    "\n",
    "import matplotlib.pyplot as plt \n",
    "import numpy as np \n",
    "\n",
    "norm = np.array([float(i) for i in file])\n"
   ]
  },
  {
   "cell_type": "code",
   "execution_count": 38,
   "metadata": {},
   "outputs": [
    {
     "data": {
      "text/plain": [
       "(array([8.851396e+06, 6.824440e+05, 3.198970e+05, 1.126740e+05,\n",
       "        2.899800e+04, 3.882000e+03, 7.090000e+02]),\n",
       " array([0.        , 0.75481286, 1.50962571, 2.26443857, 3.01925143,\n",
       "        3.77406429, 4.52887714, 5.28369   ]),\n",
       " <a list of 7 Patch objects>)"
      ]
     },
     "execution_count": 38,
     "metadata": {},
     "output_type": "execute_result"
    },
    {
     "data": {
      "image/png": "[encoded data removed]",
      "text/plain": [
       "<Figure size 432x288 with 1 Axes>"
      ]
     },
     "metadata": {
      "needs_background": "light"
     },
     "output_type": "display_data"
    }
   ],
   "source": [
    "plt.hist(norm, bins = 7)"
   ]
  },
  {
   "cell_type": "code",
   "execution_count": 68,
   "metadata": {},
   "outputs": [],
   "source": [
    "file = open(\"InteractingOneBodyDensity_10.txt\", \"r\")\n",
    "\n",
    "import matplotlib.pyplot as plt \n",
    "import numpy as np \n",
    "\n",
    "norm = np.array([float(i) for i in file])\n"
   ]
  },
  {
   "cell_type": "code",
   "execution_count": 70,
   "metadata": {},
   "outputs": [
    {
     "data": {
      "text/plain": [
       "(array([7.739261e+06, 2.555790e+05, 5.173730e+05, 4.719920e+05,\n",
       "        3.768420e+05, 2.670520e+05, 5.873600e+04, 1.437940e+05,\n",
       "        9.931700e+04, 1.477000e+03, 3.932800e+04, 1.992700e+04,\n",
       "        2.900000e+01, 5.311000e+03, 2.934000e+03, 0.000000e+00,\n",
       "        7.680000e+02, 0.000000e+00, 2.500000e+02, 3.000000e+01]),\n",
       " array([0.     , 0.27507, 0.55014, 0.82521, 1.10028, 1.37535, 1.65042,\n",
       "        1.92549, 2.20056, 2.47563, 2.7507 , 3.02577, 3.30084, 3.57591,\n",
       "        3.85098, 4.12605, 4.40112, 4.67619, 4.95126, 5.22633, 5.5014 ]),\n",
       " <a list of 20 Patch objects>)"
      ]
     },
     "execution_count": 70,
     "metadata": {},
     "output_type": "execute_result"
    },
    {
     "data": {
      "image/png": "[encoded data removed]",
      "text/plain": [
       "<Figure size 432x288 with 1 Axes>"
      ]
     },
     "metadata": {
      "needs_background": "light"
     },
     "output_type": "display_data"
    }
   ],
   "source": [
    "# norm[norm > 1e10] = 0\n",
    "\n",
    "plt.hist(norm, bins=20)"
   ]
  },
  {
   "cell_type": "code",
   "execution_count": null,
   "metadata": {},
   "outputs": [],
   "source": [
    "import seaborn as sns\n",
    "\n",
    "sns.distplot(norm, hist = False, kde = True)"
   ]
  }
 ],
 "metadata": {
  "kernelspec": {
   "display_name": "Python 3",
   "language": "python",
   "name": "python3"
  },
  "language_info": {
   "codemirror_mode": {
    "name": "ipython",
    "version": 3
   },
   "file_extension": ".py",
   "mimetype": "text/x-python",
   "name": "python",
   "nbconvert_exporter": "python",
   "pygments_lexer": "ipython3",
   "version": "3.7.1"
  }
 },
 "nbformat": 4,
 "nbformat_minor": 4
}
